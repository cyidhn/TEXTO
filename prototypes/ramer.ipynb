{
 "cells": [
  {
   "cell_type": "code",
   "execution_count": 11,
   "metadata": {},
   "outputs": [],
   "source": [
    "import sys\n",
    "sys.path.append(\"..\")"
   ]
  },
  {
   "cell_type": "code",
   "execution_count": 4,
   "id": "vietnamese-metallic",
   "metadata": {},
   "outputs": [],
   "source": [
    "import pandas as pd\n",
    "import spacy\n",
    "from re import search\n",
    "import re\n",
    "import collections\n",
    "import math\n",
    "from nltk.stem.snowball import SnowballStemmer"
   ]
  },
  {
   "cell_type": "code",
   "execution_count": 3,
   "metadata": {},
   "outputs": [
    {
     "output_type": "stream",
     "name": "stdout",
     "text": [
      "Collecting pandas\n",
      "  Downloading pandas-1.2.4-cp38-cp38-macosx_10_9_x86_64.whl (10.5 MB)\n",
      "\u001b[K     |████████████████████████████████| 10.5 MB 12.9 MB/s \n",
      "\u001b[?25hRequirement already satisfied: numpy>=1.16.5 in /opt/anaconda3/envs/Texto/lib/python3.8/site-packages (from pandas) (1.19.5)\n",
      "Requirement already satisfied: pytz>=2017.3 in /opt/anaconda3/envs/Texto/lib/python3.8/site-packages (from pandas) (2021.1)\n",
      "Requirement already satisfied: python-dateutil>=2.7.3 in /opt/anaconda3/envs/Texto/lib/python3.8/site-packages (from pandas) (2.8.1)\n",
      "Requirement already satisfied: six>=1.5 in /Users/jeremy/.local/lib/python3.8/site-packages (from python-dateutil>=2.7.3->pandas) (1.15.0)\n",
      "Installing collected packages: pandas\n",
      "Successfully installed pandas-1.2.4\n"
     ]
    }
   ],
   "source": [
    "!pip install pandas"
   ]
  },
  {
   "cell_type": "code",
   "execution_count": 5,
   "id": "subtle-formula",
   "metadata": {},
   "outputs": [],
   "source": [
    "# Stem\n",
    "stemmer = SnowballStemmer(language='french')\n",
    "\n",
    "# NLP load\n",
    "nlp = spacy.load('fr_core_news_md')"
   ]
  },
  {
   "cell_type": "code",
   "execution_count": 56,
   "id": "modified-sussex",
   "metadata": {},
   "outputs": [],
   "source": [
    "def view_thematic(texte):\n",
    "    # Mount doc \n",
    "    doc = nlp(texte)\n",
    "    doc = [stemmer.stem(X.text) for X in doc]\n",
    "\n",
    "    # Results\n",
    "    resLab1 = []\n",
    "    resLab2 = []\n",
    "    resLab3 = []\n",
    "\n",
    "    # Save\n",
    "    df2 = pd.read_pickle(\"../texto/cache/lab1.pkl\")\n",
    "    lab1 = df2.values.tolist()\n",
    "    df2 = pd.read_pickle(\"../texto/cache/lab2.pkl\")\n",
    "    lab2 = df2.values.tolist()\n",
    "    df2 = pd.read_pickle(\"../texto/cache/lab3.pkl\")\n",
    "    lab3 = df2.values.tolist()\n",
    "\n",
    "    # Save\n",
    "    df2 = pd.read_pickle(\"../texto/cache/lab1s.pkl\")\n",
    "    lab1s = df2.values.tolist()\n",
    "    df2 = pd.read_pickle(\"../texto/cache/lab2s.pkl\")\n",
    "    lab2s = df2.values.tolist()\n",
    "    df2 = pd.read_pickle(\"../texto/cache/lab3s.pkl\")\n",
    "    lab3s = df2.values.tolist()\n",
    "    \n",
    "    # Token\n",
    "    for token in doc:\n",
    "        entry = token.lower()\n",
    "        for i in range(0, len(lab3)):\n",
    "            # if (entry).find(lab3[i]) is not -1:\n",
    "            if entry == lab3s[i][0]:\n",
    "                if lab3[i][0] != \"nan\":\n",
    "                    resLab3.append(lab3[i][0])\n",
    "                if lab2[i][0] != \"nan\":\n",
    "                    resLab2.append(lab2[i][0])\n",
    "                if lab1[i][0] != \"nan\":\n",
    "                    resLab1.append(lab1[i][0])\n",
    "            # if (entry).find(lab2[i]) is not -1:\n",
    "            if entry == lab2s[i][0]:\n",
    "                # if lab3[i] != \"nan\":\n",
    "                #     resLab3.append(lab3[i])\n",
    "                if lab2[i][0] != \"nan\":\n",
    "                    resLab2.append(lab2[i][0])\n",
    "                if lab1[i][0] != \"nan\":\n",
    "                    resLab1.append(lab1[i][0])\n",
    "            # if (entry).find(lab1[i]) is not -1:\n",
    "            if entry == lab1s[i][0]:\n",
    "                # if lab3[i] != \"nan\":\n",
    "                #     resLab3.append(lab3[i])\n",
    "                # if lab2[i] != \"nan\":\n",
    "                #     resLab2.append(lab2[i])\n",
    "                if lab1[i][0] != \"nan\":\n",
    "                    resLab1.append(lab1[i][0])\n",
    "\n",
    "    # Interprete\n",
    "    cat1 = []\n",
    "    cat2 = []\n",
    "    cat3 = []\n",
    "    bestCat = \"\"\n",
    "    if len(resLab1):\n",
    "        counts = collections.Counter(resLab1)\n",
    "        new_list = sorted(resLab1, key=lambda x: -counts[x])\n",
    "        if new_list[0] != \"nan\":\n",
    "            cat1 = collections.OrderedDict((x, True) for x in new_list).keys()\n",
    "            bestCat = new_list[0]\n",
    "        if len(resLab2):\n",
    "            counts = collections.Counter(resLab2)\n",
    "            new_list = sorted(resLab2, key=lambda x: -counts[x])\n",
    "            if new_list[0] != \"nan\":\n",
    "                cat2 = collections.OrderedDict((x, True) for x in new_list).keys()\n",
    "            if len(resLab3):\n",
    "                # print(resLab3)\n",
    "                counts = collections.Counter(resLab3)\n",
    "                new_list = sorted(resLab3, key=lambda x: -counts[x])\n",
    "                if new_list[0] != \"nan\":\n",
    "                    cat3 = collections.OrderedDict((x, True) for x in new_list).keys()\n",
    "\n",
    "\n",
    "    res = {\"cat1\": list(cat1), \"cat2\": list(cat2), \"cat3\": list(cat3), \"bestCat\": bestCat}\n",
    "    return res"
   ]
  },
  {
   "cell_type": "code",
   "execution_count": 59,
   "id": "collaborative-cyprus",
   "metadata": {},
   "outputs": [
    {
     "output_type": "execute_result",
     "data": {
      "text/plain": [
       "{'cat1': ['musique', 'arts', 'face', 'tête', 'culture'],\n",
       " 'cat2': ['musique', 'joue', 'face', 'arts'],\n",
       " 'cat3': ['joue', 'musique'],\n",
       " 'bestCat': 'musique'}"
      ]
     },
     "metadata": {},
     "execution_count": 59
    }
   ],
   "source": [
    "view_thematic(\"Je joue de la musique à Paris.\")"
   ]
  }
 ],
 "metadata": {
  "kernelspec": {
   "name": "python388jvsc74a57bd06d8a194ee4c0bf04c6c1a360ddcbdf7e5e182ab2468e600b762b34cfcaeef6c7",
   "display_name": "Python 3.8.8 64-bit ('Texto': conda)"
  },
  "language_info": {
   "codemirror_mode": {
    "name": "ipython",
    "version": 3
   },
   "file_extension": ".py",
   "mimetype": "text/x-python",
   "name": "python",
   "nbconvert_exporter": "python",
   "pygments_lexer": "ipython3",
   "version": "3.8.8"
  },
  "metadata": {
   "interpreter": {
    "hash": "6d8a194ee4c0bf04c6c1a360ddcbdf7e5e182ab2468e600b762b34cfcaeef6c7"
   }
  }
 },
 "nbformat": 4,
 "nbformat_minor": 5
}