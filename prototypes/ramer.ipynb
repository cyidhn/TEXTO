{
 "cells": [
  {
   "cell_type": "code",
   "execution_count": 1,
   "metadata": {},
   "outputs": [],
   "source": [
    "import sys\n",
    "sys.path.append(\"..\")"
   ]
  },
  {
   "cell_type": "code",
   "execution_count": 2,
   "metadata": {
    "tags": []
   },
   "outputs": [],
   "source": [
    "from texto.algorithms.ramer import Ramer"
   ]
  },
  {
   "cell_type": "code",
   "execution_count": 3,
   "metadata": {},
   "outputs": [],
   "source": [
    "traitement = Ramer()"
   ]
  },
  {
   "cell_type": "code",
   "execution_count": 4,
   "id": "subtle-formula",
   "metadata": {},
   "outputs": [
    {
     "output_type": "execute_result",
     "data": {
      "text/plain": [
       "{'cat1': ['musique', 'arts', 'face', 'tête', 'culture'],\n",
       " 'cat2': ['musique', 'joue', 'face', 'arts'],\n",
       " 'cat3': ['joue', 'musique'],\n",
       " 'bestCat': 'musique'}"
      ]
     },
     "metadata": {},
     "execution_count": 4
    }
   ],
   "source": [
    "traitement.run(\"Je joue de la musique à Paris.\")"
   ]
  },
  {
   "cell_type": "code",
   "execution_count": 6,
   "metadata": {},
   "outputs": [
    {
     "output_type": "execute_result",
     "data": {
      "text/plain": [
       "{'cat1': ['cuisine',\n",
       "  'économie domestique',\n",
       "  'trains',\n",
       "  'pièces ',\n",
       "  'sciences sociales',\n",
       "  'habitations'],\n",
       " 'cat2': ['cuisine', 'cuisines', 'économie domestique', 'pièces '],\n",
       " 'cat3': ['cuisine', 'cuisines'],\n",
       " 'bestCat': 'cuisine'}"
      ]
     },
     "metadata": {},
     "execution_count": 6
    }
   ],
   "source": [
    "traitement.run(\"Je suis en train de faire la cuisine.\")"
   ]
  }
 ],
 "metadata": {
  "kernelspec": {
   "name": "python388jvsc74a57bd06d8a194ee4c0bf04c6c1a360ddcbdf7e5e182ab2468e600b762b34cfcaeef6c7",
   "display_name": "Python 3.8.8 64-bit ('Texto': conda)"
  },
  "language_info": {
   "codemirror_mode": {
    "name": "ipython",
    "version": 3
   },
   "file_extension": ".py",
   "mimetype": "text/x-python",
   "name": "python",
   "nbconvert_exporter": "python",
   "pygments_lexer": "ipython3",
   "version": "3.8.8"
  },
  "metadata": {
   "interpreter": {
    "hash": "6d8a194ee4c0bf04c6c1a360ddcbdf7e5e182ab2468e600b762b34cfcaeef6c7"
   }
  }
 },
 "nbformat": 4,
 "nbformat_minor": 5
}