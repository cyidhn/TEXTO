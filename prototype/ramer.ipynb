{
 "cells": [
  {
   "cell_type": "code",
   "execution_count": 4,
   "id": "vietnamese-metallic",
   "metadata": {},
   "outputs": [],
   "source": [
    "import pandas as pd\n",
    "import spacy\n",
    "from re import search\n",
    "import re\n",
    "import collections\n",
    "import math\n",
    "from nltk.stem.snowball import SnowballStemmer"
   ]
  },
  {
   "cell_type": "code",
   "execution_count": 5,
   "id": "subtle-formula",
   "metadata": {},
   "outputs": [],
   "source": [
    "# Stem\n",
    "stemmer = SnowballStemmer(language='french')\n",
    "\n",
    "# NLP load\n",
    "nlp = spacy.load('fr_core_news_md')"
   ]
  },
  {
   "cell_type": "code",
   "execution_count": 19,
   "id": "modified-sussex",
   "metadata": {},
   "outputs": [],
   "source": [
    "def view_thematic(texte):\n",
    "    # Mount doc \n",
    "    doc = nlp(texte)\n",
    "    doc = [stemmer.stem(X.text) for X in doc]\n",
    "\n",
    "    # Results\n",
    "    resLab1 = []\n",
    "    resLab2 = []\n",
    "    resLab3 = []\n",
    "\n",
    "    # Save\n",
    "    df2 = pd.read_pickle(\"../utils/cache/lab1.pkl\")\n",
    "    lab1 = df2.values.tolist()\n",
    "    df2 = pd.read_pickle(\"../utils/cache/lab2.pkl\")\n",
    "    lab2 = df2.values.tolist()\n",
    "    df2 = pd.read_pickle(\"../utils/cache/lab3.pkl\")\n",
    "    lab3 = df2.values.tolist()\n",
    "\n",
    "    # Save\n",
    "    df2 = pd.read_pickle(\"../utils/cache/lab1s.pkl\")\n",
    "    lab1s = df2.values.tolist()\n",
    "    df2 = pd.read_pickle(\"../utils/cache/lab2s.pkl\")\n",
    "    lab2s = df2.values.tolist()\n",
    "    df2 = pd.read_pickle(\"../utils/cache/lab3s.pkl\")\n",
    "    lab3s = df2.values.tolist()\n",
    "    \n",
    "    # Token\n",
    "    for token in doc:\n",
    "        entry = token.lower()\n",
    "        # print(entry)\n",
    "        for i in range(0, len(lab3)):\n",
    "            # if (entry).find(lab3[i]) is not -1:\n",
    "            if entry == lab3s[i]:\n",
    "                if lab3[i] != \"nan\":\n",
    "                    resLab3.append(lab3[i])\n",
    "                if lab2[i] != \"nan\":\n",
    "                    resLab2.append(lab2[i])\n",
    "                if lab1[i] != \"nan\":\n",
    "                    resLab1.append(lab1[i])\n",
    "            # if (entry).find(lab2[i]) is not -1:\n",
    "            if entry == lab2s[i]:\n",
    "                # if lab3[i] != \"nan\":\n",
    "                #     resLab3.append(lab3[i])\n",
    "                if lab2[i] != \"nan\":\n",
    "                    resLab2.append(lab2[i])\n",
    "                if lab1[i] != \"nan\":\n",
    "                    resLab1.append(lab1[i])\n",
    "            # if (entry).find(lab1[i]) is not -1:\n",
    "            if entry == lab1s[i]:\n",
    "                # if lab3[i] != \"nan\":\n",
    "                #     resLab3.append(lab3[i])\n",
    "                # if lab2[i] != \"nan\":\n",
    "                #     resLab2.append(lab2[i])\n",
    "                if lab1[i] != \"nan\":\n",
    "                    resLab1.append(lab1[i])\n",
    "\n",
    "    # Interprete\n",
    "    cat1 = []\n",
    "    cat2 = []\n",
    "    cat3 = []\n",
    "    bestCat = \"\"\n",
    "    if len(resLab1):\n",
    "        counts = collections.Counter(resLab1)\n",
    "        new_list = sorted(resLab1, key=lambda x: -counts[x])\n",
    "        if new_list[0] != \"nan\":\n",
    "            cat1 = collections.OrderedDict((x, True) for x in new_list).keys()\n",
    "            bestCat = new_list[0]\n",
    "        if len(resLab2):\n",
    "            counts = collections.Counter(resLab2)\n",
    "            new_list = sorted(resLab2, key=lambda x: -counts[x])\n",
    "            if new_list[0] != \"nan\":\n",
    "                cat2 = collections.OrderedDict((x, True) for x in new_list).keys()\n",
    "            if len(resLab3):\n",
    "                # print(resLab3)\n",
    "                counts = collections.Counter(resLab3)\n",
    "                new_list = sorted(resLab3, key=lambda x: -counts[x])\n",
    "                if new_list[0] != \"nan\":\n",
    "                    cat3 = collections.OrderedDict((x, True) for x in new_list).keys()\n",
    "\n",
    "\n",
    "    res = {\"cat1\": list(cat1), \"cat2\": list(cat2), \"cat3\": list(cat3), \"bestCat\": bestCat}\n",
    "    return res"
   ]
  },
  {
   "cell_type": "code",
   "execution_count": 20,
   "id": "collaborative-cyprus",
   "metadata": {},
   "outputs": [
    {
     "data": {
      "text/plain": [
       "{'cat1': [], 'cat2': [], 'cat3': [], 'bestCat': ''}"
      ]
     },
     "execution_count": 20,
     "metadata": {},
     "output_type": "execute_result"
    }
   ],
   "source": [
    "view_thematic(\"Je joue de la musique en italie.\")"
   ]
  },
  {
   "cell_type": "code",
   "execution_count": null,
   "id": "stable-bulgaria",
   "metadata": {},
   "outputs": [],
   "source": []
  },
  {
   "cell_type": "code",
   "execution_count": null,
   "id": "recognized-missile",
   "metadata": {},
   "outputs": [],
   "source": []
  }
 ],
 "metadata": {
  "kernelspec": {
   "display_name": "Python 3",
   "language": "python",
   "name": "python3"
  },
  "language_info": {
   "codemirror_mode": {
    "name": "ipython",
    "version": 3
   },
   "file_extension": ".py",
   "mimetype": "text/x-python",
   "name": "python",
   "nbconvert_exporter": "python",
   "pygments_lexer": "ipython3",
   "version": "3.6.7"
  }
 },
 "nbformat": 4,
 "nbformat_minor": 5
}
